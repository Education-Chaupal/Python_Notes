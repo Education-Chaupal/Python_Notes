{
  "nbformat": 4,
  "nbformat_minor": 0,
  "metadata": {
    "colab": {
      "provenance": []
    },
    "kernelspec": {
      "name": "python3",
      "display_name": "Python 3"
    },
    "language_info": {
      "name": "python"
    }
  },
  "cells": [
    {
      "cell_type": "code",
      "execution_count": 4,
      "metadata": {
        "id": "U1LeABHS1xyU"
      },
      "outputs": [],
      "source": [
        "list1 = ['1','2','3','4','5',6]\n"
      ]
    },
    {
      "cell_type": "code",
      "source": [
        "del list1[0:2]"
      ],
      "metadata": {
        "id": "vA-BMdt22YjW"
      },
      "execution_count": 2,
      "outputs": []
    },
    {
      "cell_type": "code",
      "source": [
        "list1"
      ],
      "metadata": {
        "colab": {
          "base_uri": "https://localhost:8080/"
        },
        "id": "e60XzJFZ2ixW",
        "outputId": "b55cd722-4a0f-46ed-c57f-3b70f3f872e8"
      },
      "execution_count": 3,
      "outputs": [
        {
          "output_type": "execute_result",
          "data": {
            "text/plain": [
              "['3', '4', '5', 6]"
            ]
          },
          "metadata": {},
          "execution_count": 3
        }
      ]
    },
    {
      "cell_type": "code",
      "source": [
        "list1.remove(6)"
      ],
      "metadata": {
        "id": "Il4QEMHk2kt-"
      },
      "execution_count": 6,
      "outputs": []
    },
    {
      "cell_type": "code",
      "source": [
        "list1"
      ],
      "metadata": {
        "colab": {
          "base_uri": "https://localhost:8080/"
        },
        "id": "GgEBsg-t2zFt",
        "outputId": "79219696-ad0f-4a33-e0ad-8546278e0f55"
      },
      "execution_count": 7,
      "outputs": [
        {
          "output_type": "execute_result",
          "data": {
            "text/plain": [
              "['1', '2', '3', '4', '5']"
            ]
          },
          "metadata": {},
          "execution_count": 7
        }
      ]
    },
    {
      "cell_type": "code",
      "source": [
        "list1.remove(list1[4])"
      ],
      "metadata": {
        "id": "YawVYHNx24F6"
      },
      "execution_count": 9,
      "outputs": []
    },
    {
      "cell_type": "code",
      "source": [
        "list1"
      ],
      "metadata": {
        "colab": {
          "base_uri": "https://localhost:8080/"
        },
        "id": "w5Y_7eey2_t6",
        "outputId": "9b12a57a-5be9-46e0-b243-218e6c10eb62"
      },
      "execution_count": 10,
      "outputs": [
        {
          "output_type": "execute_result",
          "data": {
            "text/plain": [
              "['1', '2', '3', '4']"
            ]
          },
          "metadata": {},
          "execution_count": 10
        }
      ]
    },
    {
      "cell_type": "code",
      "source": [
        "list1.insert(0,5)"
      ],
      "metadata": {
        "id": "ofLZI0473HBn"
      },
      "execution_count": 11,
      "outputs": []
    },
    {
      "cell_type": "code",
      "source": [
        "list1"
      ],
      "metadata": {
        "colab": {
          "base_uri": "https://localhost:8080/"
        },
        "id": "yBUEydPg3j6B",
        "outputId": "1bddbb1b-57e1-433b-e740-a5f8e612ea60"
      },
      "execution_count": 12,
      "outputs": [
        {
          "output_type": "execute_result",
          "data": {
            "text/plain": [
              "[5, '1', '2', '3', '4']"
            ]
          },
          "metadata": {},
          "execution_count": 12
        }
      ]
    },
    {
      "cell_type": "code",
      "source": [
        "list1.insert(1,6)"
      ],
      "metadata": {
        "id": "njQ3-AIN3lGj"
      },
      "execution_count": 13,
      "outputs": []
    },
    {
      "cell_type": "code",
      "source": [
        "list1"
      ],
      "metadata": {
        "colab": {
          "base_uri": "https://localhost:8080/"
        },
        "id": "yixCgv5-3wH9",
        "outputId": "5b75a250-65de-4981-8ebe-114444c136f0"
      },
      "execution_count": 14,
      "outputs": [
        {
          "output_type": "execute_result",
          "data": {
            "text/plain": [
              "[5, 6, '1', '2', '3', '4']"
            ]
          },
          "metadata": {},
          "execution_count": 14
        }
      ]
    },
    {
      "cell_type": "code",
      "source": [
        "list2 = [[1,2],[1,3],[1,4],[1,6]]"
      ],
      "metadata": {
        "id": "J79aZnr53xWL"
      },
      "execution_count": 15,
      "outputs": []
    },
    {
      "cell_type": "code",
      "source": [
        "list2"
      ],
      "metadata": {
        "colab": {
          "base_uri": "https://localhost:8080/"
        },
        "id": "lpMkhVBv43_C",
        "outputId": "08a535f6-249a-49be-eabb-0c4696d53bc5"
      },
      "execution_count": 16,
      "outputs": [
        {
          "output_type": "execute_result",
          "data": {
            "text/plain": [
              "[[1, 2], [1, 3], [1, 4], [1, 6]]"
            ]
          },
          "metadata": {},
          "execution_count": 16
        }
      ]
    },
    {
      "cell_type": "code",
      "source": [
        "for i in list2:\n",
        "  for z in i:\n",
        "    if z == 2:\n",
        "      print(z)"
      ],
      "metadata": {
        "colab": {
          "base_uri": "https://localhost:8080/"
        },
        "id": "POLF92vV45PB",
        "outputId": "b421df41-4327-4d30-a7b1-e30ad1d59a51"
      },
      "execution_count": 17,
      "outputs": [
        {
          "output_type": "stream",
          "name": "stdout",
          "text": [
            "2\n"
          ]
        }
      ]
    },
    {
      "cell_type": "code",
      "source": [
        "list2.insert(0,[4,5])"
      ],
      "metadata": {
        "id": "l3qYNC137lBj"
      },
      "execution_count": 20,
      "outputs": []
    },
    {
      "cell_type": "code",
      "source": [
        "list2"
      ],
      "metadata": {
        "colab": {
          "base_uri": "https://localhost:8080/"
        },
        "id": "FDumQxQR9v6P",
        "outputId": "1f0eee8a-4bc5-452d-a480-34e124194546"
      },
      "execution_count": 21,
      "outputs": [
        {
          "output_type": "execute_result",
          "data": {
            "text/plain": [
              "[[4, 5], [1, 2], [1, 3], [1, 4], [1, 6]]"
            ]
          },
          "metadata": {},
          "execution_count": 21
        }
      ]
    },
    {
      "cell_type": "code",
      "source": [
        "for i in list2:\n",
        "  for z in i:\n",
        "    if z == 1:\n",
        "      i[0] = 4\n",
        "    if z == 2:\n",
        "      i[1] = 4"
      ],
      "metadata": {
        "id": "DR8PJunA9xpK"
      },
      "execution_count": 22,
      "outputs": []
    },
    {
      "cell_type": "code",
      "source": [
        "list2"
      ],
      "metadata": {
        "colab": {
          "base_uri": "https://localhost:8080/"
        },
        "id": "1wj5jlzA-WnS",
        "outputId": "a5f04d10-5635-4f14-e68e-595849820b2c"
      },
      "execution_count": 23,
      "outputs": [
        {
          "output_type": "execute_result",
          "data": {
            "text/plain": [
              "[[4, 5], [4, 4], [4, 3], [4, 4], [4, 6]]"
            ]
          },
          "metadata": {},
          "execution_count": 23
        }
      ]
    },
    {
      "cell_type": "code",
      "source": [],
      "metadata": {
        "id": "OtmL5uyO-YBn"
      },
      "execution_count": null,
      "outputs": []
    }
  ]
}