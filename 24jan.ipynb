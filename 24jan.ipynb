{
  "nbformat": 4,
  "nbformat_minor": 0,
  "metadata": {
    "colab": {
      "provenance": []
    },
    "kernelspec": {
      "name": "python3",
      "display_name": "Python 3"
    },
    "language_info": {
      "name": "python"
    }
  },
  "cells": [
    {
      "cell_type": "code",
      "execution_count": 1,
      "metadata": {
        "id": "UJIYOjULPN4e"
      },
      "outputs": [],
      "source": [
        "language = [\"python\",\"swift\",\"C++\",\"java\"]\n",
        "most_used_language=[language[0],language[-1]]"
      ]
    },
    {
      "cell_type": "code",
      "source": [
        "most_used_language"
      ],
      "metadata": {
        "colab": {
          "base_uri": "https://localhost:8080/"
        },
        "id": "_H7FSr8zPwPU",
        "outputId": "d255a32b-eb17-4cfa-e755-1432a06ac012"
      },
      "execution_count": 2,
      "outputs": [
        {
          "output_type": "execute_result",
          "data": {
            "text/plain": [
              "['python', 'java']"
            ]
          },
          "metadata": {},
          "execution_count": 2
        }
      ]
    },
    {
      "cell_type": "code",
      "source": [
        "lang = language[0:3]"
      ],
      "metadata": {
        "id": "FFHjnRvtP13j"
      },
      "execution_count": 5,
      "outputs": []
    },
    {
      "cell_type": "code",
      "source": [
        "print(lang)"
      ],
      "metadata": {
        "colab": {
          "base_uri": "https://localhost:8080/"
        },
        "id": "DIgZDYXSP9d0",
        "outputId": "8d515c52-fa1e-4f68-b8da-0c5a9ea5f8be"
      },
      "execution_count": 6,
      "outputs": [
        {
          "output_type": "stream",
          "name": "stdout",
          "text": [
            "['python', 'swift', 'C++']\n"
          ]
        }
      ]
    },
    {
      "cell_type": "code",
      "source": [
        "my_list = ['p','q','r','a','m']"
      ],
      "metadata": {
        "id": "KbhBu6U7P_1r"
      },
      "execution_count": 7,
      "outputs": []
    },
    {
      "cell_type": "markdown",
      "source": [
        "2 then 3 then 4"
      ],
      "metadata": {
        "id": "O0U3Qf_jQXny"
      }
    },
    {
      "cell_type": "code",
      "source": [
        "my_list[2:5]"
      ],
      "metadata": {
        "colab": {
          "base_uri": "https://localhost:8080/"
        },
        "id": "_tv8oaigQR1P",
        "outputId": "ada380ef-b9e9-4393-db9c-3389b07f09b8"
      },
      "execution_count": 8,
      "outputs": [
        {
          "output_type": "execute_result",
          "data": {
            "text/plain": [
              "['r', 'a', 'm']"
            ]
          },
          "metadata": {},
          "execution_count": 8
        }
      ]
    },
    {
      "cell_type": "code",
      "source": [
        "my_list[:]"
      ],
      "metadata": {
        "colab": {
          "base_uri": "https://localhost:8080/"
        },
        "id": "czg-y4miQU0A",
        "outputId": "ae92c9e8-431e-4b49-c77a-d23d55c46bbb"
      },
      "execution_count": 9,
      "outputs": [
        {
          "output_type": "execute_result",
          "data": {
            "text/plain": [
              "['p', 'q', 'r', 'a', 'm']"
            ]
          },
          "metadata": {},
          "execution_count": 9
        }
      ]
    },
    {
      "cell_type": "code",
      "source": [
        "my_list[::-1]"
      ],
      "metadata": {
        "colab": {
          "base_uri": "https://localhost:8080/"
        },
        "id": "vFC6mhylQdAK",
        "outputId": "066e4642-8fe8-4ac0-b4e7-46852d445fef"
      },
      "execution_count": 10,
      "outputs": [
        {
          "output_type": "execute_result",
          "data": {
            "text/plain": [
              "['m', 'a', 'r', 'q', 'p']"
            ]
          },
          "metadata": {},
          "execution_count": 10
        }
      ]
    },
    {
      "cell_type": "markdown",
      "source": [
        "0 1 2 3 4\n",
        "        -1"
      ],
      "metadata": {
        "id": "e51tAVwHQrF2"
      }
    },
    {
      "cell_type": "code",
      "source": [
        "my_list[0::]"
      ],
      "metadata": {
        "colab": {
          "base_uri": "https://localhost:8080/"
        },
        "id": "8R4skQufQg62",
        "outputId": "dd3f5b2b-33d8-41fc-d6b1-44e47be9712b"
      },
      "execution_count": 11,
      "outputs": [
        {
          "output_type": "execute_result",
          "data": {
            "text/plain": [
              "['p', 'q', 'r', 'a', 'm']"
            ]
          },
          "metadata": {},
          "execution_count": 11
        }
      ]
    },
    {
      "cell_type": "code",
      "source": [
        "my_list"
      ],
      "metadata": {
        "colab": {
          "base_uri": "https://localhost:8080/"
        },
        "id": "Wo4PkWX9QzPo",
        "outputId": "e9da4b7a-3ab3-4364-9ab0-ced723c8baef"
      },
      "execution_count": 12,
      "outputs": [
        {
          "output_type": "execute_result",
          "data": {
            "text/plain": [
              "['p', 'q', 'r', 'a', 'm']"
            ]
          },
          "metadata": {},
          "execution_count": 12
        }
      ]
    },
    {
      "cell_type": "code",
      "source": [
        "for i in range(len(my_list)):\n",
        "  if i == 0:\n",
        "    my_list[i] = \"m\"\n",
        "  if i == 1:\n",
        "    my_list[i] = \"n\"\n",
        "  "
      ],
      "metadata": {
        "id": "EPWSS0_jTCfq"
      },
      "execution_count": null,
      "outputs": []
    }
  ]
}