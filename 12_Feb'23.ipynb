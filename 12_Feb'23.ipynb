{
  "nbformat": 4,
  "nbformat_minor": 0,
  "metadata": {
    "colab": {
      "provenance": []
    },
    "kernelspec": {
      "name": "python3",
      "display_name": "Python 3"
    },
    "language_info": {
      "name": "python"
    }
  },
  "cells": [
    {
      "cell_type": "code",
      "execution_count": 16,
      "metadata": {
        "id": "wsOt-1z3GRRe"
      },
      "outputs": [],
      "source": [
        "def adder(*args):\n",
        "    a = 0\n",
        "    for arg in args:\n",
        "      a = a+arg\n",
        "    return a\n"
      ]
    },
    {
      "cell_type": "code",
      "source": [
        "adder(7,9,10,12)\n"
      ],
      "metadata": {
        "colab": {
          "base_uri": "https://localhost:8080/"
        },
        "id": "q6QckSvTIRDv",
        "outputId": "cc937ff9-3f33-4b43-9dcc-45e85963b19b"
      },
      "execution_count": 17,
      "outputs": [
        {
          "output_type": "execute_result",
          "data": {
            "text/plain": [
              "38"
            ]
          },
          "metadata": {},
          "execution_count": 17
        }
      ]
    },
    {
      "cell_type": "markdown",
      "source": [
        "*args = non keyword arguments,if we have to give multiple argument\n",
        "**kwargs = keyword argument,wildcard"
      ],
      "metadata": {
        "id": "jiudNldiHNsn"
      }
    },
    {
      "cell_type": "code",
      "source": [
        "def myfun(*argv):\n",
        "  for arg in argv:\n",
        "    print(arg)"
      ],
      "metadata": {
        "id": "hjN2bxBoGShx"
      },
      "execution_count": 2,
      "outputs": []
    },
    {
      "cell_type": "code",
      "source": [
        "myfun(\"hi\",\"i am fine\",\"i am healthy\",\"fine\")"
      ],
      "metadata": {
        "colab": {
          "base_uri": "https://localhost:8080/"
        },
        "id": "EGLfd-6wHzYC",
        "outputId": "a62c5930-cc1e-4982-9747-d81c3b63e777"
      },
      "execution_count": 4,
      "outputs": [
        {
          "output_type": "stream",
          "name": "stdout",
          "text": [
            "hi\n",
            "i am fine\n",
            "i am healthy\n",
            "fine\n"
          ]
        }
      ]
    },
    {
      "cell_type": "code",
      "source": [
        "def test(**kwargs):\n",
        "  print(\"this is my args elements:\",kwargs.items())\n",
        "  for  key,values in kwargs.items():\n",
        "    if key == \"z\":\n",
        "      print(\"the imported list is:\",values)"
      ],
      "metadata": {
        "id": "QJO1pRpKH47o"
      },
      "execution_count": 20,
      "outputs": []
    },
    {
      "cell_type": "code",
      "source": [
        "test(a=12,x=\"prem\",z = [1,2,4,5,6,])"
      ],
      "metadata": {
        "colab": {
          "base_uri": "https://localhost:8080/"
        },
        "id": "-Nol7hXeKAuD",
        "outputId": "af755989-2012-44d4-c098-151b0fc9d29a"
      },
      "execution_count": 21,
      "outputs": [
        {
          "output_type": "stream",
          "name": "stdout",
          "text": [
            "this is my args elements: dict_items([('a', 12), ('x', 'prem'), ('z', [1, 2, 4, 5, 6])])\n",
            "the imported list is: [1, 2, 4, 5, 6]\n"
          ]
        }
      ]
    },
    {
      "cell_type": "code",
      "source": [
        "def myfun(arg1,agr2,agr3):\n",
        "  print(\"arg1:\",arg1)\n",
        "  print(\"arg2:\",agr2)\n",
        "  print(\"arg2:\",agr3)\n",
        "\n",
        "\n",
        "\n"
      ],
      "metadata": {
        "id": "eu0TAcq8KIpg"
      },
      "execution_count": 29,
      "outputs": []
    },
    {
      "cell_type": "code",
      "source": [
        "args=(\"hi\",\"hello\",\"bye\")"
      ],
      "metadata": {
        "id": "CfmIutrjMg7F"
      },
      "execution_count": 23,
      "outputs": []
    },
    {
      "cell_type": "code",
      "source": [
        "myfun(*args)"
      ],
      "metadata": {
        "colab": {
          "base_uri": "https://localhost:8080/"
        },
        "id": "hm2Qi9k7Mmdz",
        "outputId": "b10a0154-8c51-474a-d73a-bcfc0553eeb0"
      },
      "execution_count": 25,
      "outputs": [
        {
          "output_type": "stream",
          "name": "stdout",
          "text": [
            "arg1: hi\n",
            "arg2: hello\n",
            "arg2: bye\n"
          ]
        }
      ]
    },
    {
      "cell_type": "code",
      "source": [
        "kwargs = {\"arg1\":[1,32,34,6,7,8,9],\"agr2\":\"hi\",\"agr3\":\"no\"}"
      ],
      "metadata": {
        "id": "YYllN2kvMrHN"
      },
      "execution_count": 34,
      "outputs": []
    },
    {
      "cell_type": "code",
      "source": [
        "type(kwargs)"
      ],
      "metadata": {
        "colab": {
          "base_uri": "https://localhost:8080/"
        },
        "id": "XbZnA5vNNIW3",
        "outputId": "a2128f03-adcf-49fa-91cb-0fa7dddae8b8"
      },
      "execution_count": 35,
      "outputs": [
        {
          "output_type": "execute_result",
          "data": {
            "text/plain": [
              "dict"
            ]
          },
          "metadata": {},
          "execution_count": 35
        }
      ]
    },
    {
      "cell_type": "code",
      "source": [
        "myfun(**kwargs)"
      ],
      "metadata": {
        "colab": {
          "base_uri": "https://localhost:8080/"
        },
        "id": "3Y0GyIhHNUzm",
        "outputId": "e762721d-94eb-46b8-f6c6-6698f411d142"
      },
      "execution_count": 36,
      "outputs": [
        {
          "output_type": "stream",
          "name": "stdout",
          "text": [
            "arg1: [1, 32, 34, 6, 7, 8, 9]\n",
            "arg2: hi\n",
            "arg2: no\n"
          ]
        }
      ]
    },
    {
      "cell_type": "code",
      "source": [
        "def myfun(*args,**kwargs):\n",
        "  print(\"args:\",args)\n",
        "  print(\"kwargs:\",kwargs.items())\n"
      ],
      "metadata": {
        "id": "F_ZXZo2nN_bg"
      },
      "execution_count": 54,
      "outputs": []
    },
    {
      "cell_type": "code",
      "source": [
        "myfun(\"hi\",\"hello\",\"bye\",fist=\"i am\",second=\"learning\",third=\"python\")"
      ],
      "metadata": {
        "colab": {
          "base_uri": "https://localhost:8080/",
          "height": 270
        },
        "id": "ehb6xMKlOnUc",
        "outputId": "af6eb8c6-5a8e-4b67-c5f8-8ee9e964a7b9"
      },
      "execution_count": 56,
      "outputs": [
        {
          "output_type": "stream",
          "name": "stdout",
          "text": [
            "args: ('hi', 'hello', 'bye')\n"
          ]
        },
        {
          "output_type": "error",
          "ename": "TypeError",
          "evalue": "ignored",
          "traceback": [
            "\u001b[0;31m---------------------------------------------------------------------------\u001b[0m",
            "\u001b[0;31mTypeError\u001b[0m                                 Traceback (most recent call last)",
            "\u001b[0;32m<ipython-input-56-22f9b20fb25f>\u001b[0m in \u001b[0;36m<module>\u001b[0;34m\u001b[0m\n\u001b[0;32m----> 1\u001b[0;31m \u001b[0mmyfun\u001b[0m\u001b[0;34m(\u001b[0m\u001b[0;34m\"hi\"\u001b[0m\u001b[0;34m,\u001b[0m\u001b[0;34m\"hello\"\u001b[0m\u001b[0;34m,\u001b[0m\u001b[0;34m\"bye\"\u001b[0m\u001b[0;34m,\u001b[0m\u001b[0mfist\u001b[0m\u001b[0;34m=\u001b[0m\u001b[0;34m\"i am\"\u001b[0m\u001b[0;34m,\u001b[0m\u001b[0msecond\u001b[0m\u001b[0;34m=\u001b[0m\u001b[0;34m\"learning\"\u001b[0m\u001b[0;34m,\u001b[0m\u001b[0mthird\u001b[0m\u001b[0;34m=\u001b[0m\u001b[0;34m\"python\"\u001b[0m\u001b[0;34m)\u001b[0m\u001b[0;34m\u001b[0m\u001b[0;34m\u001b[0m\u001b[0m\n\u001b[0m",
            "\u001b[0;32m<ipython-input-54-b4209cbd62b1>\u001b[0m in \u001b[0;36mmyfun\u001b[0;34m(*args, **kwargs)\u001b[0m\n\u001b[1;32m      1\u001b[0m \u001b[0;32mdef\u001b[0m \u001b[0mmyfun\u001b[0m\u001b[0;34m(\u001b[0m\u001b[0;34m*\u001b[0m\u001b[0margs\u001b[0m\u001b[0;34m,\u001b[0m\u001b[0;34m**\u001b[0m\u001b[0mkwargs\u001b[0m\u001b[0;34m)\u001b[0m\u001b[0;34m:\u001b[0m\u001b[0;34m\u001b[0m\u001b[0;34m\u001b[0m\u001b[0m\n\u001b[1;32m      2\u001b[0m   \u001b[0mprint\u001b[0m\u001b[0;34m(\u001b[0m\u001b[0;34m\"args:\"\u001b[0m\u001b[0;34m,\u001b[0m\u001b[0margs\u001b[0m\u001b[0;34m)\u001b[0m\u001b[0;34m\u001b[0m\u001b[0;34m\u001b[0m\u001b[0m\n\u001b[0;32m----> 3\u001b[0;31m   \u001b[0mprint\u001b[0m\u001b[0;34m(\u001b[0m\u001b[0;34m\"kwargs:\"\u001b[0m\u001b[0;34m,\u001b[0m\u001b[0mkwargs\u001b[0m\u001b[0;34m.\u001b[0m\u001b[0mitems\u001b[0m\u001b[0;34m(\u001b[0m\u001b[0;36m0\u001b[0m\u001b[0;34m)\u001b[0m\u001b[0;34m)\u001b[0m\u001b[0;34m\u001b[0m\u001b[0;34m\u001b[0m\u001b[0m\n\u001b[0m",
            "\u001b[0;31mTypeError\u001b[0m: items() takes no arguments (1 given)"
          ]
        }
      ]
    },
    {
      "cell_type": "code",
      "source": [],
      "metadata": {
        "id": "1nmE6XmbO3DO"
      },
      "execution_count": null,
      "outputs": []
    }
  ]
}