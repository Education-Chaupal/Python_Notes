{
  "nbformat": 4,
  "nbformat_minor": 0,
  "metadata": {
    "colab": {
      "provenance": []
    },
    "kernelspec": {
      "name": "python3",
      "display_name": "Python 3"
    },
    "language_info": {
      "name": "python"
    }
  },
  "cells": [
    {
      "cell_type": "code",
      "execution_count": 1,
      "metadata": {
        "id": "gz4GwdIeIwZ5"
      },
      "outputs": [],
      "source": [
        "a_dict = {}"
      ]
    },
    {
      "cell_type": "code",
      "source": [
        "a_dict = {\"bihar\":\"patna\",\"up\":\"luckhnow\"}"
      ],
      "metadata": {
        "id": "cFL162djI6xq"
      },
      "execution_count": 2,
      "outputs": []
    },
    {
      "cell_type": "code",
      "source": [
        "a_dict"
      ],
      "metadata": {
        "colab": {
          "base_uri": "https://localhost:8080/"
        },
        "id": "yaipk3z7JPIk",
        "outputId": "fada0d93-dbc7-4ef5-b4ac-e0a3b5d9b743"
      },
      "execution_count": 3,
      "outputs": [
        {
          "output_type": "execute_result",
          "data": {
            "text/plain": [
              "{'bihar': 'patna', 'up': 'luckhnow'}"
            ]
          },
          "metadata": {},
          "execution_count": 3
        }
      ]
    },
    {
      "cell_type": "code",
      "source": [
        "type(a_dict)"
      ],
      "metadata": {
        "colab": {
          "base_uri": "https://localhost:8080/"
        },
        "id": "GtIpdZr0JSYs",
        "outputId": "aea2304a-557f-411f-8844-b5898a95f02a"
      },
      "execution_count": 4,
      "outputs": [
        {
          "output_type": "execute_result",
          "data": {
            "text/plain": [
              "dict"
            ]
          },
          "metadata": {},
          "execution_count": 4
        }
      ]
    },
    {
      "cell_type": "code",
      "source": [
        "a_dict.keys()"
      ],
      "metadata": {
        "colab": {
          "base_uri": "https://localhost:8080/"
        },
        "id": "kX79WrxtJg__",
        "outputId": "e1a056a0-3bab-4959-decd-6feec801cd51"
      },
      "execution_count": 5,
      "outputs": [
        {
          "output_type": "execute_result",
          "data": {
            "text/plain": [
              "dict_keys(['bihar', 'up'])"
            ]
          },
          "metadata": {},
          "execution_count": 5
        }
      ]
    },
    {
      "cell_type": "code",
      "source": [
        "a_dict.values()"
      ],
      "metadata": {
        "colab": {
          "base_uri": "https://localhost:8080/"
        },
        "id": "fm0t0MjzJkJB",
        "outputId": "9b9ec1d0-50d5-4f7b-c7ba-c06c54f41b23"
      },
      "execution_count": 6,
      "outputs": [
        {
          "output_type": "execute_result",
          "data": {
            "text/plain": [
              "dict_values(['patna', 'luckhnow'])"
            ]
          },
          "metadata": {},
          "execution_count": 6
        }
      ]
    },
    {
      "cell_type": "code",
      "source": [
        "salary_dict = {\"name\": \"prem\",\"age\": 12,\"gender\": \"Male\"}"
      ],
      "metadata": {
        "id": "KCrda3a5Jnh2"
      },
      "execution_count": 7,
      "outputs": []
    },
    {
      "cell_type": "code",
      "source": [
        "salary_dict[\"name\"]"
      ],
      "metadata": {
        "colab": {
          "base_uri": "https://localhost:8080/",
          "height": 35
        },
        "id": "mLHhmE5GKKEe",
        "outputId": "822d8f5d-ca96-46ae-c0c6-1416dbf2100e"
      },
      "execution_count": 8,
      "outputs": [
        {
          "output_type": "execute_result",
          "data": {
            "text/plain": [
              "'prem'"
            ],
            "application/vnd.google.colaboratory.intrinsic+json": {
              "type": "string"
            }
          },
          "metadata": {},
          "execution_count": 8
        }
      ]
    },
    {
      "cell_type": "code",
      "source": [
        "salary_dict[\"age\"]"
      ],
      "metadata": {
        "colab": {
          "base_uri": "https://localhost:8080/"
        },
        "id": "X0VjRtPkKT_D",
        "outputId": "0c567b4c-6626-423b-c24a-f6188c00e77a"
      },
      "execution_count": 9,
      "outputs": [
        {
          "output_type": "execute_result",
          "data": {
            "text/plain": [
              "12"
            ]
          },
          "metadata": {},
          "execution_count": 9
        }
      ]
    },
    {
      "cell_type": "code",
      "source": [
        "salary_dict[\"gender\"]"
      ],
      "metadata": {
        "colab": {
          "base_uri": "https://localhost:8080/",
          "height": 35
        },
        "id": "BxDrgSUnKa-y",
        "outputId": "7d7f04c2-ed5f-46b5-f4bd-2b81e164628c"
      },
      "execution_count": 11,
      "outputs": [
        {
          "output_type": "execute_result",
          "data": {
            "text/plain": [
              "'Male'"
            ],
            "application/vnd.google.colaboratory.intrinsic+json": {
              "type": "string"
            }
          },
          "metadata": {},
          "execution_count": 11
        }
      ]
    },
    {
      "cell_type": "code",
      "source": [
        "salary_dict[\"gender\"] =  \"Female\""
      ],
      "metadata": {
        "id": "1WeAG7CXKeYX"
      },
      "execution_count": 12,
      "outputs": []
    },
    {
      "cell_type": "code",
      "source": [
        "salary_dict"
      ],
      "metadata": {
        "colab": {
          "base_uri": "https://localhost:8080/"
        },
        "id": "vkMAB0lTLwqd",
        "outputId": "a68e7792-f792-4a5b-8cdc-c23f6621507c"
      },
      "execution_count": 13,
      "outputs": [
        {
          "output_type": "execute_result",
          "data": {
            "text/plain": [
              "{'name': 'prem', 'age': 12, 'gender': 'Female'}"
            ]
          },
          "metadata": {},
          "execution_count": 13
        }
      ]
    },
    {
      "cell_type": "code",
      "source": [
        "del salary_dict['name']"
      ],
      "metadata": {
        "id": "gdNdsIr1Lzpy"
      },
      "execution_count": 14,
      "outputs": []
    },
    {
      "cell_type": "code",
      "source": [
        "salary_dict\n"
      ],
      "metadata": {
        "colab": {
          "base_uri": "https://localhost:8080/"
        },
        "id": "hWgAeytfNDvA",
        "outputId": "9284a494-43c2-4ab3-8098-839997b72484"
      },
      "execution_count": 15,
      "outputs": [
        {
          "output_type": "execute_result",
          "data": {
            "text/plain": [
              "{'age': 12, 'gender': 'Female'}"
            ]
          },
          "metadata": {},
          "execution_count": 15
        }
      ]
    },
    {
      "cell_type": "code",
      "source": [
        "a = [\"prem\",\"ragh\",\"harshit\",\"priyaranjan\"]\n",
        "c = [12000,14000,16000,18000]\n",
        "employee = {\"name\":[],\"gender\":[],\"salary\":[]}\n",
        "for i in range(0,len(a)):\n",
        "\n",
        "    employee[\"name\"].append(a[i])\n",
        "    employee[\"gender\"].append(\"Male\")\n",
        "    employee[\"salary\"].append(c[i])\n",
        "  \n",
        "  \n",
        "\n"
      ],
      "metadata": {
        "id": "Ss3A_dfVNJaH"
      },
      "execution_count": 20,
      "outputs": []
    },
    {
      "cell_type": "code",
      "source": [
        "employee"
      ],
      "metadata": {
        "colab": {
          "base_uri": "https://localhost:8080/"
        },
        "id": "P3x0gdggVSti",
        "outputId": "f8baeba1-7112-43aa-f022-70613c47e519"
      },
      "execution_count": 21,
      "outputs": [
        {
          "output_type": "execute_result",
          "data": {
            "text/plain": [
              "{'name': ['prem', 'ragh', 'harshit', 'priyaranjan'],\n",
              " 'gender': ['Male', 'Male', 'Male', 'Male'],\n",
              " 'salary': [12000, 14000, 16000, 18000]}"
            ]
          },
          "metadata": {},
          "execution_count": 21
        }
      ]
    },
    {
      "cell_type": "code",
      "source": [],
      "metadata": {
        "id": "zcBKwyT9VT35"
      },
      "execution_count": null,
      "outputs": []
    }
  ]
}