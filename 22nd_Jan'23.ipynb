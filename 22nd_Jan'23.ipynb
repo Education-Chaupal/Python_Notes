{
  "nbformat": 4,
  "nbformat_minor": 0,
  "metadata": {
    "colab": {
      "provenance": []
    },
    "kernelspec": {
      "name": "python3",
      "display_name": "Python 3"
    },
    "language_info": {
      "name": "python"
    }
  },
  "cells": [
    {
      "cell_type": "code",
      "execution_count": 1,
      "metadata": {
        "id": "OzvAW6PzoxWn"
      },
      "outputs": [],
      "source": [
        "a = \"string\""
      ]
    },
    {
      "cell_type": "code",
      "source": [
        "type(a)\n"
      ],
      "metadata": {
        "colab": {
          "base_uri": "https://localhost:8080/"
        },
        "id": "R7Dj8ajjpdiL",
        "outputId": "9a8dcf6c-050c-4669-f413-18fd6d73266d"
      },
      "execution_count": 2,
      "outputs": [
        {
          "output_type": "execute_result",
          "data": {
            "text/plain": [
              "str"
            ]
          },
          "metadata": {},
          "execution_count": 2
        }
      ]
    },
    {
      "cell_type": "code",
      "source": [
        "type(type(a))"
      ],
      "metadata": {
        "colab": {
          "base_uri": "https://localhost:8080/"
        },
        "id": "rmCkRTRzpfik",
        "outputId": "7b0ed6df-5650-496d-8c00-cb5f89a5af64"
      },
      "execution_count": 3,
      "outputs": [
        {
          "output_type": "execute_result",
          "data": {
            "text/plain": [
              "type"
            ]
          },
          "metadata": {},
          "execution_count": 3
        }
      ]
    },
    {
      "cell_type": "code",
      "source": [
        "if a == \"string\":\n",
        "  print(\"this is a string variable\")\n",
        "\n",
        "else:\n",
        "  print(\"this is not a string variable\")"
      ],
      "metadata": {
        "colab": {
          "base_uri": "https://localhost:8080/"
        },
        "id": "AYDAHCjYps27",
        "outputId": "b03bc900-adde-4fb5-82ec-86d548e27b08"
      },
      "execution_count": 4,
      "outputs": [
        {
          "output_type": "stream",
          "name": "stdout",
          "text": [
            "this is a string variable\n"
          ]
        }
      ]
    },
    {
      "cell_type": "code",
      "source": [
        "leave_type=['earned leave','paternity leave','no leave applied','sick leave','leave without pay']\n",
        "for i in leave_type:\n",
        "  if i ==  'paternity leave':\n",
        "    print(\"no of days applied is:\",6)\n",
        "  elif i == 'earned leave':\n",
        "    print(\"no of days applied is:\",12)\n",
        "  elif i == 'sick leave':\n",
        "    print(\"no of days applied is:\",1)\n",
        "  elif i == 'leave without pay':\n",
        "    print(\"no of days applied is:\",0)\n",
        "  else:\n",
        "    print(\"no leave applied\")"
      ],
      "metadata": {
        "colab": {
          "base_uri": "https://localhost:8080/"
        },
        "id": "Og6k2AZMqFCZ",
        "outputId": "79094f6d-d4d7-47ff-df37-744aeab22d3d"
      },
      "execution_count": 5,
      "outputs": [
        {
          "output_type": "stream",
          "name": "stdout",
          "text": [
            "no of days applied is: 6\n",
            "no of days applied is: 12\n",
            "no of days applied is: 1\n",
            "no of days applied is: 0\n"
          ]
        }
      ]
    },
    {
      "cell_type": "code",
      "source": [
        "a = input()"
      ],
      "metadata": {
        "colab": {
          "base_uri": "https://localhost:8080/"
        },
        "id": "oUvRTFW_yi29",
        "outputId": "e06bba0b-2760-423e-e777-71ed6b3891d5"
      },
      "execution_count": 6,
      "outputs": [
        {
          "name": "stdout",
          "output_type": "stream",
          "text": [
            "12\n"
          ]
        }
      ]
    },
    {
      "cell_type": "code",
      "source": [
        "\n",
        "a = input(\"which kind of leave u want to apply:\")\n",
        "if a ==  'paternity leave':\n",
        "    print(\"no of days applied is:\",6)\n",
        "elif a == 'earned leave':\n",
        "    print(\"no of days applied is:\",12)\n",
        "elif a == 'sick leave':\n",
        "    print(\"no of days applied is:\",1)\n",
        "elif a == 'leave without pay':\n",
        "    print(\"no of days applied is:\",0)\n",
        "else:\n",
        "    print(\"no leave applied\")"
      ],
      "metadata": {
        "colab": {
          "base_uri": "https://localhost:8080/"
        },
        "id": "Ac-6ykK7ylqW",
        "outputId": "359fcdae-db3a-4c20-cf62-ac84e1b206e3"
      },
      "execution_count": 10,
      "outputs": [
        {
          "output_type": "stream",
          "name": "stdout",
          "text": [
            "which kind of leave u want to apply:paternity leave\n",
            "no of days applied is: 6\n"
          ]
        }
      ]
    },
    {
      "cell_type": "code",
      "source": [
        "2500 // 5"
      ],
      "metadata": {
        "colab": {
          "base_uri": "https://localhost:8080/"
        },
        "id": "_geuKMYuyozO",
        "outputId": "d46d3987-ebd5-425c-888e-0ec80ddf9d7b"
      },
      "execution_count": 11,
      "outputs": [
        {
          "output_type": "execute_result",
          "data": {
            "text/plain": [
              "500"
            ]
          },
          "metadata": {},
          "execution_count": 11
        }
      ]
    },
    {
      "cell_type": "code",
      "source": [
        "2500 % 5"
      ],
      "metadata": {
        "colab": {
          "base_uri": "https://localhost:8080/"
        },
        "id": "AXSf3C633BX2",
        "outputId": "6384f426-7e4b-4e6f-f0a2-d2a8bf970dd9"
      },
      "execution_count": 12,
      "outputs": [
        {
          "output_type": "execute_result",
          "data": {
            "text/plain": [
              "0"
            ]
          },
          "metadata": {},
          "execution_count": 12
        }
      ]
    },
    {
      "cell_type": "code",
      "source": [
        "input_number = input()\n",
        "\n"
      ],
      "metadata": {
        "colab": {
          "base_uri": "https://localhost:8080/"
        },
        "id": "-U4A26Ik3Dj9",
        "outputId": "ac7ec5ec-b371-477e-bf01-c7e011cedc71"
      },
      "execution_count": 19,
      "outputs": [
        {
          "name": "stdout",
          "output_type": "stream",
          "text": [
            "2600\n"
          ]
        }
      ]
    },
    {
      "cell_type": "code",
      "source": [
        "type(input_number)"
      ],
      "metadata": {
        "colab": {
          "base_uri": "https://localhost:8080/"
        },
        "id": "6vTn5wJ43apH",
        "outputId": "abcec325-f63b-4c7d-c03f-5a0535de0232"
      },
      "execution_count": 20,
      "outputs": [
        {
          "output_type": "execute_result",
          "data": {
            "text/plain": [
              "str"
            ]
          },
          "metadata": {},
          "execution_count": 20
        }
      ]
    },
    {
      "cell_type": "code",
      "source": [
        "type(input_number)"
      ],
      "metadata": {
        "colab": {
          "base_uri": "https://localhost:8080/"
        },
        "id": "2zKG9hXQ3hfR",
        "outputId": "4823b9da-9f02-4343-a5b1-8df8316cea03"
      },
      "execution_count": 17,
      "outputs": [
        {
          "output_type": "execute_result",
          "data": {
            "text/plain": [
              "int"
            ]
          },
          "metadata": {},
          "execution_count": 17
        }
      ]
    },
    {
      "cell_type": "code",
      "source": [
        "input_num = int(input())\n",
        "\n",
        "if input_num >= 1500 and input_num <= 2700:\n",
        "  if (input_num % 7) == 0 and (input_num % 5) == 0:\n",
        "    print(\"the number is divisible by 7 and 5 and the number is:\",input_num)\n",
        "  else:\n",
        "    print(\"the number is not divisible by 7 and 5\")\n",
        "\n"
      ],
      "metadata": {
        "colab": {
          "base_uri": "https://localhost:8080/"
        },
        "id": "OX5_b3E93w-k",
        "outputId": "476625c0-60c6-405f-8d9f-09bb3789927a"
      },
      "execution_count": 24,
      "outputs": [
        {
          "output_type": "stream",
          "name": "stdout",
          "text": [
            "2309\n",
            "the number is not divisible by 7 and 5\n"
          ]
        }
      ]
    },
    {
      "cell_type": "code",
      "source": [],
      "metadata": {
        "id": "BiXgvOmv9GPP"
      },
      "execution_count": null,
      "outputs": []
    },
    {
      "cell_type": "code",
      "source": [
        "l = []\n",
        "for i in range(1500,2701):\n",
        "  if (i % 7) == 0 and (i % 5) == 0:\n",
        "    l.append(i)\n"
      ],
      "metadata": {
        "id": "9QP71g2x7ow6"
      },
      "execution_count": 27,
      "outputs": []
    },
    {
      "cell_type": "code",
      "source": [
        "l"
      ],
      "metadata": {
        "colab": {
          "base_uri": "https://localhost:8080/"
        },
        "id": "NmVh4sab8yM7",
        "outputId": "ba2c73cd-c276-4843-8f18-d47049583fcd"
      },
      "execution_count": 28,
      "outputs": [
        {
          "output_type": "execute_result",
          "data": {
            "text/plain": [
              "[1,\n",
              " 1505,\n",
              " 1540,\n",
              " 1575,\n",
              " 1610,\n",
              " 1645,\n",
              " 1680,\n",
              " 1715,\n",
              " 1750,\n",
              " 1785,\n",
              " 1820,\n",
              " 1855,\n",
              " 1890,\n",
              " 1925,\n",
              " 1960,\n",
              " 1995,\n",
              " 2030,\n",
              " 2065,\n",
              " 2100,\n",
              " 2135,\n",
              " 2170,\n",
              " 2205,\n",
              " 2240,\n",
              " 2275,\n",
              " 2310,\n",
              " 2345,\n",
              " 2380,\n",
              " 2415,\n",
              " 2450,\n",
              " 2485,\n",
              " 2520,\n",
              " 2555,\n",
              " 2590,\n",
              " 2625,\n",
              " 2660,\n",
              " 2695]"
            ]
          },
          "metadata": {},
          "execution_count": 28
        }
      ]
    },
    {
      "cell_type": "code",
      "source": [],
      "metadata": {
        "id": "drAL3v0C8zMA"
      },
      "execution_count": null,
      "outputs": []
    }
  ]
}