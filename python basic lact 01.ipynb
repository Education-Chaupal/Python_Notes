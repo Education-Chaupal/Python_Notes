{
 "cells": [
  {
   "cell_type": "code",
   "execution_count": 1,
   "id": "4d844328",
   "metadata": {},
   "outputs": [
    {
     "name": "stdout",
     "output_type": "stream",
     "text": [
      "this is my first python program\n"
     ]
    }
   ],
   "source": [
    "print(\"this is my first python program\")"
   ]
  },
  {
   "cell_type": "code",
   "execution_count": 2,
   "id": "6938ba43",
   "metadata": {
    "scrolled": true
   },
   "outputs": [
    {
     "ename": "SyntaxError",
     "evalue": "Missing parentheses in call to 'print'. Did you mean print(\"this is my first python program\")? (Temp/ipykernel_7780/404216505.py, line 1)",
     "output_type": "error",
     "traceback": [
      "\u001b[1;36m  File \u001b[1;32m\"C:\\Users\\91854\\AppData\\Local\\Temp/ipykernel_7780/404216505.py\"\u001b[1;36m, line \u001b[1;32m1\u001b[0m\n\u001b[1;33m    print \"this is my first python program\"\u001b[0m\n\u001b[1;37m          ^\u001b[0m\n\u001b[1;31mSyntaxError\u001b[0m\u001b[1;31m:\u001b[0m Missing parentheses in call to 'print'. Did you mean print(\"this is my first python program\")?\n"
     ]
    }
   ],
   "source": [
    "print \"this is my first python program\""
   ]
  },
  {
   "cell_type": "code",
   "execution_count": 3,
   "id": "8cc02839",
   "metadata": {},
   "outputs": [],
   "source": [
    "#this is my first python program : comment not execute"
   ]
  },
  {
   "cell_type": "code",
   "execution_count": 4,
   "id": "7b808fda",
   "metadata": {},
   "outputs": [
    {
     "data": {
      "text/plain": [
       "'ghj;\\nhjk\\nkj\\njkk'"
      ]
     },
     "execution_count": 4,
     "metadata": {},
     "output_type": "execute_result"
    }
   ],
   "source": [
    "\"\"\"ghj;\n",
    "hjk\n",
    "kj\n",
    "jkk\"\"\" #multiple line comment"
   ]
  },
  {
   "cell_type": "code",
   "execution_count": 5,
   "id": "550df376",
   "metadata": {},
   "outputs": [
    {
     "data": {
      "text/plain": [
       "'print(\"ghjkki\")\\nprint(\"ghjkki\")\\nprint(\"ghjkki\")'"
      ]
     },
     "execution_count": 5,
     "metadata": {},
     "output_type": "execute_result"
    }
   ],
   "source": [
    "\"\"\"print(\"ghjkki\")\n",
    "print(\"ghjkki\")\n",
    "print(\"ghjkki\")\"\"\""
   ]
  },
  {
   "cell_type": "code",
   "execution_count": 6,
   "id": "a95b1434",
   "metadata": {},
   "outputs": [
    {
     "name": "stdout",
     "output_type": "stream",
     "text": [
      "10\n"
     ]
    }
   ],
   "source": [
    "#variable local or global instances try to store data in RAM, variable name:it is place\n",
    "a =10\n",
    "b=  \"sudh\"\n",
    "print(a)\n"
   ]
  },
  {
   "cell_type": "code",
   "execution_count": 7,
   "id": "ae87f1fc",
   "metadata": {},
   "outputs": [
    {
     "data": {
      "text/plain": [
       "10"
      ]
     },
     "execution_count": 7,
     "metadata": {},
     "output_type": "execute_result"
    }
   ],
   "source": [
    "a"
   ]
  },
  {
   "cell_type": "code",
   "execution_count": 8,
   "id": "6c69db07",
   "metadata": {},
   "outputs": [
    {
     "data": {
      "text/plain": [
       "int"
      ]
     },
     "execution_count": 8,
     "metadata": {},
     "output_type": "execute_result"
    }
   ],
   "source": [
    "type(a)#check datatype"
   ]
  },
  {
   "cell_type": "code",
   "execution_count": 9,
   "id": "464722f7",
   "metadata": {},
   "outputs": [],
   "source": [
    "b =\"anjali\""
   ]
  },
  {
   "cell_type": "code",
   "execution_count": 10,
   "id": "df75f6ea",
   "metadata": {},
   "outputs": [
    {
     "data": {
      "text/plain": [
       "str"
      ]
     },
     "execution_count": 10,
     "metadata": {},
     "output_type": "execute_result"
    }
   ],
   "source": [
    "type(b) #whatever you are going to coated in single or multiple coat is string. "
   ]
  },
  {
   "cell_type": "code",
   "execution_count": 11,
   "id": "bc804c1f",
   "metadata": {},
   "outputs": [
    {
     "data": {
      "text/plain": [
       "'anjali'"
      ]
     },
     "execution_count": 11,
     "metadata": {},
     "output_type": "execute_result"
    }
   ],
   "source": [
    "b"
   ]
  },
  {
   "cell_type": "code",
   "execution_count": null,
   "id": "266473d0",
   "metadata": {},
   "outputs": [],
   "source": [
    "#variable not suppose to start with integer always start with character or meaningful names as name, user_id etc. also.."
   ]
  },
  {
   "cell_type": "code",
   "execution_count": 12,
   "id": "69460544",
   "metadata": {},
   "outputs": [],
   "source": [
    "name = \"anjali\"\n",
    "user_id =\"12212N\"\n",
    "password = \"ghikkh456\""
   ]
  },
  {
   "cell_type": "code",
   "execution_count": 13,
   "id": "a642985d",
   "metadata": {},
   "outputs": [
    {
     "data": {
      "text/plain": [
       "'anjali'"
      ]
     },
     "execution_count": 13,
     "metadata": {},
     "output_type": "execute_result"
    }
   ],
   "source": [
    "name"
   ]
  },
  {
   "cell_type": "code",
   "execution_count": 14,
   "id": "24a3cdfd",
   "metadata": {},
   "outputs": [
    {
     "data": {
      "text/plain": [
       "'12212N'"
      ]
     },
     "execution_count": 14,
     "metadata": {},
     "output_type": "execute_result"
    }
   ],
   "source": [
    "user_id"
   ]
  },
  {
   "cell_type": "code",
   "execution_count": 3,
   "id": "c96e0c4c",
   "metadata": {},
   "outputs": [],
   "source": [
    "#float datatype \n",
    "a = 1.6\n"
   ]
  },
  {
   "cell_type": "code",
   "execution_count": 4,
   "id": "a973ea99",
   "metadata": {},
   "outputs": [
    {
     "data": {
      "text/plain": [
       "1.6"
      ]
     },
     "execution_count": 4,
     "metadata": {},
     "output_type": "execute_result"
    }
   ],
   "source": [
    "a"
   ]
  },
  {
   "cell_type": "code",
   "execution_count": 5,
   "id": "defd9ef7",
   "metadata": {},
   "outputs": [
    {
     "data": {
      "text/plain": [
       "float"
      ]
     },
     "execution_count": 5,
     "metadata": {},
     "output_type": "execute_result"
    }
   ],
   "source": [
    "type(a)"
   ]
  },
  {
   "cell_type": "code",
   "execution_count": 6,
   "id": "091246f7",
   "metadata": {},
   "outputs": [],
   "source": [
    "\n",
    "b = True\n",
    "c = False"
   ]
  },
  {
   "cell_type": "code",
   "execution_count": 7,
   "id": "923d946e",
   "metadata": {},
   "outputs": [
    {
     "data": {
      "text/plain": [
       "bool"
      ]
     },
     "execution_count": 7,
     "metadata": {},
     "output_type": "execute_result"
    }
   ],
   "source": [
    "type(b)"
   ]
  },
  {
   "cell_type": "code",
   "execution_count": 8,
   "id": "1e55edec",
   "metadata": {},
   "outputs": [
    {
     "data": {
      "text/plain": [
       "bool"
      ]
     },
     "execution_count": 8,
     "metadata": {},
     "output_type": "execute_result"
    }
   ],
   "source": [
    "type(c)"
   ]
  },
  {
   "cell_type": "code",
   "execution_count": 9,
   "id": "60b99ef8",
   "metadata": {},
   "outputs": [
    {
     "name": "stdout",
     "output_type": "stream",
     "text": [
      "4\n",
      "0\n"
     ]
    }
   ],
   "source": [
    "print(True+True+True+False+True)\n",
    "print(False-True+True)"
   ]
  },
  {
   "cell_type": "code",
   "execution_count": 10,
   "id": "1d0389f4",
   "metadata": {},
   "outputs": [],
   "source": [
    "n= 45+6j"
   ]
  },
  {
   "cell_type": "code",
   "execution_count": 11,
   "id": "04c54b84",
   "metadata": {},
   "outputs": [
    {
     "data": {
      "text/plain": [
       "complex"
      ]
     },
     "execution_count": 11,
     "metadata": {},
     "output_type": "execute_result"
    }
   ],
   "source": [
    "type(n)"
   ]
  },
  {
   "cell_type": "code",
   "execution_count": 12,
   "id": "1fa2f1d5",
   "metadata": {},
   "outputs": [
    {
     "ename": "TypeError",
     "evalue": "unsupported operand type(s) for +: 'int' and 'str'",
     "output_type": "error",
     "traceback": [
      "\u001b[1;31m---------------------------------------------------------------------------\u001b[0m",
      "\u001b[1;31mTypeError\u001b[0m                                 Traceback (most recent call last)",
      "\u001b[1;32m~\\AppData\\Local\\Temp/ipykernel_2556/3115204888.py\u001b[0m in \u001b[0;36m<module>\u001b[1;34m\u001b[0m\n\u001b[1;32m----> 1\u001b[1;33m \u001b[1;36m1\u001b[0m \u001b[1;33m+\u001b[0m \u001b[1;34m\"sudh\"\u001b[0m \u001b[1;31m# In pyton hetrogenous datatype not able to perform operation.\u001b[0m\u001b[1;33m\u001b[0m\u001b[1;33m\u001b[0m\u001b[0m\n\u001b[0m",
      "\u001b[1;31mTypeError\u001b[0m: unsupported operand type(s) for +: 'int' and 'str'"
     ]
    }
   ],
   "source": [
    "1 + \"sudh\" # In pyton hetrogenous datatype not able to perform operation."
   ]
  },
  {
   "cell_type": "code",
   "execution_count": 16,
   "id": "973348ec",
   "metadata": {},
   "outputs": [
    {
     "data": {
      "text/plain": [
       "'1anjali'"
      ]
     },
     "execution_count": 16,
     "metadata": {},
     "output_type": "execute_result"
    }
   ],
   "source": [
    "str(1) + \"anjali\" #typecasting"
   ]
  },
  {
   "cell_type": "code",
   "execution_count": null,
   "id": "9bb66cb8",
   "metadata": {},
   "outputs": [],
   "source": [
    "\"1\" + \"anj\" #concatinatiion "
   ]
  },
  {
   "cell_type": "code",
   "execution_count": null,
   "id": "11280bc8",
   "metadata": {},
   "outputs": [],
   "source": [
    "1+1.0 # it is upcasting operation float has more space,hence output in float"
   ]
  },
  {
   "cell_type": "code",
   "execution_count": 17,
   "id": "d8ba29aa",
   "metadata": {},
   "outputs": [
    {
     "data": {
      "text/plain": [
       "'anjanjanj'"
      ]
     },
     "execution_count": 17,
     "metadata": {},
     "output_type": "execute_result"
    }
   ],
   "source": [
    "\"anj\"+\"anj\"+\"anj\""
   ]
  },
  {
   "cell_type": "code",
   "execution_count": 18,
   "id": "3e9a546b",
   "metadata": {},
   "outputs": [
    {
     "data": {
      "text/plain": [
       "'anjanjanj'"
      ]
     },
     "execution_count": 18,
     "metadata": {},
     "output_type": "execute_result"
    }
   ],
   "source": [
    "\"anj\"*3 #multiplication is no of concatination in string ."
   ]
  },
  {
   "cell_type": "code",
   "execution_count": 19,
   "id": "f9877e00",
   "metadata": {},
   "outputs": [
    {
     "name": "stdout",
     "output_type": "stream",
     "text": [
      "12\n"
     ]
    }
   ],
   "source": [
    "a = input()"
   ]
  },
  {
   "cell_type": "code",
   "execution_count": 20,
   "id": "ca8c571a",
   "metadata": {},
   "outputs": [
    {
     "data": {
      "text/plain": [
       "'12'"
      ]
     },
     "execution_count": 20,
     "metadata": {},
     "output_type": "execute_result"
    }
   ],
   "source": [
    "a"
   ]
  },
  {
   "cell_type": "code",
   "execution_count": null,
   "id": "363a1ad2",
   "metadata": {},
   "outputs": [],
   "source": [
    "#assignment \n",
    "\"\"Q1. take a integer input from user by using input fun.\n",
    "take three a ,b,c three suppose to create and take input from user\n",
    ") = (a+b)/c\n",
    "O1 = O+ complex variable\n",
    "O1+\"your name\"\"\"\n"
   ]
  },
  {
   "cell_type": "code",
   "execution_count": 1,
   "id": "525803a7",
   "metadata": {},
   "outputs": [
    {
     "name": "stdout",
     "output_type": "stream",
     "text": [
      "enter a integer 67\n",
      "enter a integer 67\n",
      "enter a integer 67\n"
     ]
    }
   ],
   "source": [
    "a = int(input(\"enter a integer \"))\n",
    "b = int(input(\"enter a integer \"))\n",
    "c = int(input(\"enter a integer \"))"
   ]
  },
  {
   "cell_type": "code",
   "execution_count": 3,
   "id": "47ba9c39",
   "metadata": {},
   "outputs": [],
   "source": [
    "o= (a+b)/c"
   ]
  },
  {
   "cell_type": "code",
   "execution_count": 4,
   "id": "9920c5a5",
   "metadata": {},
   "outputs": [
    {
     "name": "stdout",
     "output_type": "stream",
     "text": [
      "2.0\n"
     ]
    }
   ],
   "source": [
    "print(o)"
   ]
  },
  {
   "cell_type": "code",
   "execution_count": 5,
   "id": "ac25cea4",
   "metadata": {},
   "outputs": [],
   "source": [
    "o1 = o+ 2+3j"
   ]
  },
  {
   "cell_type": "code",
   "execution_count": 6,
   "id": "59a73957",
   "metadata": {},
   "outputs": [
    {
     "data": {
      "text/plain": [
       "(4+3j)"
      ]
     },
     "execution_count": 6,
     "metadata": {},
     "output_type": "execute_result"
    }
   ],
   "source": [
    "o1"
   ]
  },
  {
   "cell_type": "code",
   "execution_count": 8,
   "id": "c0611af8",
   "metadata": {},
   "outputs": [],
   "source": [
    "b = (str(o1)+\"anjali\")"
   ]
  },
  {
   "cell_type": "code",
   "execution_count": 9,
   "id": "94483802",
   "metadata": {},
   "outputs": [
    {
     "data": {
      "text/plain": [
       "'(4+3j)anjali'"
      ]
     },
     "execution_count": 9,
     "metadata": {},
     "output_type": "execute_result"
    }
   ],
   "source": [
    "b"
   ]
  },
  {
   "cell_type": "code",
   "execution_count": 1,
   "id": "93687112",
   "metadata": {},
   "outputs": [],
   "source": [
    "#conditional statement\n"
   ]
  },
  {
   "cell_type": "code",
   "execution_count": 4,
   "id": "a38dedbd",
   "metadata": {},
   "outputs": [
    {
     "name": "stdout",
     "output_type": "stream",
     "text": [
      "input a number32\n",
      "data input is lesser then 34 and i am fine with it\n"
     ]
    }
   ],
   "source": [
    "a = int(input(\"input a number\"))\n",
    "if a <34 :\n",
    "    print(\"data input is lesser then 34 and i am fine with it\")"
   ]
  },
  {
   "cell_type": "code",
   "execution_count": null,
   "id": "d1e89e1c",
   "metadata": {},
   "outputs": [],
   "source": [
    "#indentation rather than curley braces as in java"
   ]
  },
  {
   "cell_type": "code",
   "execution_count": 5,
   "id": "ecfc841c",
   "metadata": {},
   "outputs": [
    {
     "ename": "IndentationError",
     "evalue": "expected an indented block (Temp/ipykernel_10612/1428954277.py, line 3)",
     "output_type": "error",
     "traceback": [
      "\u001b[1;36m  File \u001b[1;32m\"C:\\Users\\91854\\AppData\\Local\\Temp/ipykernel_10612/1428954277.py\"\u001b[1;36m, line \u001b[1;32m3\u001b[0m\n\u001b[1;33m    print(\"data input is lesser then 34 and i am fine with it\u001b[0m\n\u001b[1;37m    ^\u001b[0m\n\u001b[1;31mIndentationError\u001b[0m\u001b[1;31m:\u001b[0m expected an indented block\n"
     ]
    }
   ],
   "source": [
    "a = int(input(\"input a number\"))\n",
    "if a <34 :\n",
    "print(\"data input is lesser then 34 and i am fine with it"
   ]
  },
  {
   "cell_type": "code",
   "execution_count": 2,
   "id": "9b7dbd0e",
   "metadata": {},
   "outputs": [
    {
     "name": "stdout",
     "output_type": "stream",
     "text": [
      "input a number9886579\n",
      "data input is lesser then 34 and i am fine with it\n"
     ]
    }
   ],
   "source": [
    "a = int(input(\"input a number\"))\n",
    "if a <34:\n",
    "    pass #pass in any condition:\n",
    "print(\"data input is lesser then 34 and i am fine with it\")"
   ]
  },
  {
   "cell_type": "code",
   "execution_count": 9,
   "id": "6a9e191a",
   "metadata": {},
   "outputs": [
    {
     "name": "stdout",
     "output_type": "stream",
     "text": [
      "input a number98\n",
      " my data is lesser then 100\n"
     ]
    }
   ],
   "source": [
    "a = int(input(\"input a number\"))\n",
    "if a <34 :\n",
    "    print(\"data input is lesser then 34 and i am fine with it\")\n",
    "elif a<100:\n",
    "    print(\" my data is lesser then 100\")\n",
    "else:\n",
    "    print(\"user input is not lesser than 34\")"
   ]
  },
  {
   "cell_type": "code",
   "execution_count": 10,
   "id": "93378df9",
   "metadata": {},
   "outputs": [],
   "source": [
    "#nested loop"
   ]
  },
  {
   "cell_type": "code",
   "execution_count": 15,
   "id": "db12ef20",
   "metadata": {},
   "outputs": [
    {
     "name": "stdout",
     "output_type": "stream",
     "text": [
      "enter your salary89000000\n",
      "your salary is good\n",
      "i will go for nano\n",
      "false code\n"
     ]
    }
   ],
   "source": [
    "salary =int(input(\"enter your salary\"))\n",
    "if salary > 1000:\n",
    "    print(\"your salary is good\")\n",
    "    if salary >5000:\n",
    "        print(\"i will go for nano\")\n",
    "        if True:\n",
    "             print(\"false code\")\n",
    "    elif salary >10000:\n",
    "        print(\"i will go for maruti\")\n",
    "    elif salary >50000:\n",
    "        print(\"i will go for toyata\")\n",
    "    else:\n",
    "        print(\"i will go for rent\")\n",
    "elif salary >500:\n",
    "    print(\"i will go for bike\")\n",
    "elif salary >100:\n",
    "    print(\"i will not buy anything\")\n",
    "else:\n",
    "    print(\"need saving\")"
   ]
  },
  {
   "cell_type": "code",
   "execution_count": null,
   "id": "adf182a1",
   "metadata": {},
   "outputs": [],
   "source": []
  }
 ],
 "metadata": {
  "kernelspec": {
   "display_name": "Python 3 (ipykernel)",
   "language": "python",
   "name": "python3"
  },
  "language_info": {
   "codemirror_mode": {
    "name": "ipython",
    "version": 3
   },
   "file_extension": ".py",
   "mimetype": "text/x-python",
   "name": "python",
   "nbconvert_exporter": "python",
   "pygments_lexer": "ipython3",
   "version": "3.9.7"
  }
 },
 "nbformat": 4,
 "nbformat_minor": 5
}
